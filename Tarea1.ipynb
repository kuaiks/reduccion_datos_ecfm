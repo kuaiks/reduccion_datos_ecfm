{
 "cells": [
  {
   "cell_type": "markdown",
   "id": "6de22035-af7e-44a7-a4c8-b595c9674b0e",
   "metadata": {},
   "source": [
    "# <span style=\"font-family: 'Times New Roman', serif;\"> Tarea 1 </span>\n",
    "\n",
    "### <span style=\"font-family: 'Times New Roman', serif;\">Laboratorio de Reducción de Datos</span>\n",
    "\n",
    "#### <span style=\"font-family: 'Times New Roman', serif;\">Daniel Enríquez 202308323</span>\n"
   ]
  },
  {
   "cell_type": "markdown",
   "id": "ee3b6970-b2b1-40d5-adf7-2db05b6339b8",
   "metadata": {},
   "source": [
    "## ¿Por qué es importante versionar el código y cómo nos ayuda en una investigación física?\n",
    "\n",
    "Comencemos estableciendo claro con que es versionar: versionar es cuando llevamos un registro de los cambios que le realizamos a un archivo o conjunto de archivos. Por ejemplo, si realizamos un programa que calcula los impuestos pagados al comprar productos, pero dichos impuestos sufren un cambio de ley y ya no son los mismos, podemos <u>versionar</u> el programa y realizar todos los cambios respectivos.  \n",
    "\n",
    "Es como dar \"actualizaciones\" sin perjudicar tanto nuestro código fuente y estableciendo claro que cambios estamos realizando del fuente.  \n",
    "\n",
    "#### <span style=\"color: blue;\">Pero, ¿que con la Física?</span>\n",
    "Pues notemos que si estamos estudiando cierto fenómeno físico o realizando alguna otra investigación afín, puede que nos veamos sometidos ante nuevos descubrimientos que nos obligan a readecuar nuestra hipótesis y así poco a poco mejorar nuestros estudios hasta llegar a objetos más apegados a la realidad.  \n",
    "\n",
    "Sin embargo, puede que a veces tengamos que volver a versiones de código anteriores y nuestras modificaciones no sirvieron, o hay que utilizar de ambas modificaciones, etc, etc., el punto es que podemos tener bien en claro bajo que estamos trabajando ahora y documentando todo cambio.\n",
    "\n",
    "## ¿Qué es Git?\n",
    "\n",
    "Git es un sistema de control de versiones distribuido que permite a los desarrolladores trabajar en un mismo proyecto sin interferir con el trabajo de los demás. Fue creado por Linus Torvalds (el creador de Linux) en 2005, justo para gestionar el desarrollo del núcleo de Linux.\n",
    "\n",
    "La innovación en Git es que no depende de un servidor central para almacenar todo el historial de cambios en el código, sino que cada desarrollador tiene una copia completa del repositorio con todo su historial (todos los registros y versiones y anteriores de código).\n",
    "\n",
    "El punto es que también podemos almacenar el código con todo su historial de versiones en un repositorio remoto, como lo es GitHub.\n",
    "\n",
    "#### <span style=\"color: blue;\">Github</span>\n",
    "\n",
    "Repositorio web que utiliza el sistema de control de versiones de Git. Es un servicio en línea colaborativo.\n",
    "\n",
    "## Repositorio Git\n",
    "\n",
    "Almacén de código fuente donde se guarda el historial completo de un proyecto y todos los cambios que se realizaron en él. Puede ser local (en nuestro computador), o en línea (Github).\n",
    "\n",
    "<span style=\"color: red;\"><strong>Componentes Principales del Repositorio Git</strong></span>\n",
    "\n",
    "<ol>\n",
    "    <li style=\"margin-bottom: 10px;\">Archivos del Proyecto: archivos de código fuente.</li>\n",
    "    <li style=\"margin-bottom: 10px;\">Historial de Cambios (commits): cada que se realiza un cambio en el código, se guardan los \"commits\", los cuales describen el cambio y le asignan un identificador único. Con esto es que se puede ver el historial completo del proyecto, deshacer cambios, comparar, etc, etc.</li>\n",
    "    <li style=\"margin-bottom: 10px;\">Ramas (branches): ramas de desarrollo independientes.</li>\n",
    "    <li style=\"margin-bottom: 10px;\">Etiquetas (tags): puntos específicos en el hisotirl que indican nuevas versiones o cambios importantes del proyecto.</li>\n",
    "</ol>\n",
    "\n",
    "\n",
    "En resumidas cuentas, Git es el motor de control de versiones, el repositorio es el lugar donde tengo guardados los archivos y Github es un servicio en línea que permite almacenar estos repositorios, entre otrasa cosas.\n",
    "\n",
    "Este notebook justo, es una demostración de lo anterior."
   ]
  },
  {
   "cell_type": "markdown",
   "id": "f9c4c84d-c7d2-4999-ba94-868d98da0781",
   "metadata": {},
   "source": [
    "Por último, quiero agregar que me gustaría trabajar con datos de experimentos ***astronómicos***."
   ]
  }
 ],
 "metadata": {
  "kernelspec": {
   "display_name": "Python 3 (ipykernel)",
   "language": "python",
   "name": "python3"
  },
  "language_info": {
   "codemirror_mode": {
    "name": "ipython",
    "version": 3
   },
   "file_extension": ".py",
   "mimetype": "text/x-python",
   "name": "python",
   "nbconvert_exporter": "python",
   "pygments_lexer": "ipython3",
   "version": "3.10.16"
  }
 },
 "nbformat": 4,
 "nbformat_minor": 5
}
