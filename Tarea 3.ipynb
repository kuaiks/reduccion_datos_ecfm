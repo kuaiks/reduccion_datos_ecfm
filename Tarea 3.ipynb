{
 "cells": [
  {
   "cell_type": "markdown",
   "id": "676a43a6-8ec6-4571-aad6-5ef13d5747c4",
   "metadata": {},
   "source": [
    "# Tarea 3\n",
    "## Laboratorio de Reducción de Datos\n",
    "## Daniel Enríquez Pérez 202308323"
   ]
  },
  {
   "cell_type": "markdown",
   "id": "b6776e8d-d1e1-42bd-b00c-e520681cebc2",
   "metadata": {},
   "source": [
    "## Machine Learning en Astrofísica"
   ]
  },
  {
   "cell_type": "markdown",
   "id": "2778a157-3c82-498a-9faa-dcb4a548d7df",
   "metadata": {},
   "source": [
    "### $\\rightarrow$ Detección de Exoplanetas\n",
    "\n",
    "El análisis de curvas estelares mediante ML ha permitido últimamente el descubrimiento de exoplanetas que con tecnología anterior, pudieron haber pasado por desapercibidos. Un claro ejemplo de esto es el exoplaneta Kepler-90i; tal fue descubierto por una red convulocional de Google AI. (Shallue, C. J., & Vanderburg, A. (2018))"
   ]
  },
  {
   "cell_type": "markdown",
   "id": "fb53f6e5-ed13-4436-bf89-46d6a6d45e3e",
   "metadata": {},
   "source": [
    "### $\\rightarrow$ Identificación de Supernovas y Eventos Transitorios"
   ]
  },
  {
   "cell_type": "markdown",
   "id": "a252a305-daf1-4a88-aa0a-c21466d0b817",
   "metadata": {},
   "source": [
    "A través del ML, se han encontrado variaciones de brillo en el tiempo (curvas de luz) con redes neuronales. Supernova Photometric Classification Challenge auidó a mejorar algoritmos de clasificación de supernovas solo con curvas de luz. (Lochner, M. et al. (2016))."
   ]
  },
  {
   "cell_type": "markdown",
   "id": "8b3ac008-9634-4c21-a796-5e2ba03c63fd",
   "metadata": {},
   "source": [
    "## Métricas de Evaluación para Algoritmos de Clasificación"
   ]
  },
  {
   "cell_type": "markdown",
   "id": "9461c178-c65b-48aa-a195-b592c32e31cd",
   "metadata": {},
   "source": [
    "Algoritmos de Clasificación para medir el rendimiento de un modelo.\n",
    "\n",
    "- Accuracy (Exactitud): proporción total de predicciones correctas del modelo.\n",
    "  \n",
    "  $Ac = \\frac{TP+TN}{TP+TN+FP+FN}$, siendo $TP$ verdaderos positivos, $TN$ verdaderos negativos, $FP$ falsos positivos, $FN$ falsos negativos. (Wikipedia,. s.f.)\n",
    "- Precisión (Positiva): qué tanto los ejemplos clasificados como positivos lo son realmente.\n",
    "  $Pre = \\frac{TP}{TP+FP} $(Wikipedia,. s.f.)\n",
    "- Recall (Sensibilidad / Tasa de Verdaderos Positivos): qué proporción de positivos reales fueron realmente identificados.\n",
    "  $Recall=\\frac{TP}{TP+FN} $(Wikipedia,. s.f.)\n",
    "- F1 Score: promedio armónico entre precisión y recall.\n",
    "  $F1=2*\\frac{Precision\\cdot Recall}\n",
    "  {Precision+Recall} $ (Wikipedia,. s.f.)"
   ]
  },
  {
   "cell_type": "markdown",
   "id": "9304b9c2-2105-4864-8a2f-857b16c11d5e",
   "metadata": {},
   "source": [
    "## Hiperparámetros"
   ]
  },
  {
   "cell_type": "markdown",
   "id": "d7e3980b-d3d9-4442-b1e0-5dfc2877c104",
   "metadata": {},
   "source": [
    "Variables externas al modelo que controlan el proceso de entrenamiento y deben ser definidos antes de poder entrenar al modelo. (Bergstra, J., & Bengio, Y. (2012))."
   ]
  },
  {
   "cell_type": "markdown",
   "id": "d1c35453-0b68-45e4-99af-6ec6086be5e5",
   "metadata": {},
   "source": [
    "## Train Test Split"
   ]
  },
  {
   "cell_type": "markdown",
   "id": "8c664857-fb5a-4104-920a-c563e9d9ff97",
   "metadata": {},
   "source": [
    "Técnica para dividir el conjunto de datos para el modelo en dos partes:\n",
    "1. Training Set (el que se le proporciona al modelo para poder entrenarlo).(Géron, A. (2019)).\n",
    "2. Test Set (el que no se proporciona y con el que se testea el modelo, pues debería predecir tales). (Géron, A. (2019))."
   ]
  },
  {
   "cell_type": "markdown",
   "id": "ec9267b0-7750-4a35-86df-308869eba56f",
   "metadata": {},
   "source": [
    "## Referencias"
   ]
  },
  {
   "cell_type": "markdown",
   "id": "83e1403b-1863-4566-8d22-9b1d020fd24c",
   "metadata": {},
   "source": [
    "- [Shallue, C. J., & Vanderburg, A. (2018). *Identifying Exoplanets with Deep Learning: A Five-planet Resonant Chain around Kepler-80 and an Eighth Planet around Kepler-90.*](https://arxiv.org/pdf/1712.05044)\n",
    "- [Lochner, M. et al. (2016). *Photometric Supernova Classification with Machine Learning.*](https://arxiv.org/abs/1603.00882)\n",
    "-  [Wikipedia. (s.f.). *Evaluation metrics for classification*](https://en.wikipedia.org/wiki/Confusion_matrix)\n",
    "-  [Bergstra, J., & Bengio, Y. (2012). *Random search for hyper-parameter optimization. JMLR.*](https://jmlr.csail.mit.edu/papers/volume13/bergstra12a/bergstra12a.pdf)\n",
    "-  [Gerón, A. (2019). *Hands-On Machine Learning with Scikit-Learn, Keras and TensorFlow*](http://14.139.161.31/OddSem-0822-1122/Hands-On_Machine_Learning_with_Scikit-Learn-Keras-and-TensorFlow-2nd-Edition-Aurelien-Geron.pdf)"
   ]
  }
 ],
 "metadata": {
  "kernelspec": {
   "display_name": "Python 3 (ipykernel)",
   "language": "python",
   "name": "python3"
  },
  "language_info": {
   "codemirror_mode": {
    "name": "ipython",
    "version": 3
   },
   "file_extension": ".py",
   "mimetype": "text/x-python",
   "name": "python",
   "nbconvert_exporter": "python",
   "pygments_lexer": "ipython3",
   "version": "3.10.16"
  }
 },
 "nbformat": 4,
 "nbformat_minor": 5
}
